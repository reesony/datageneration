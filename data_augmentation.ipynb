{
 "cells": [
  {
   "cell_type": "code",
   "execution_count": 3,
   "id": "34fb23d0",
   "metadata": {},
   "outputs": [
    {
     "data": {
      "text/plain": [
       "'/home/chang/domain_intent'"
      ]
     },
     "execution_count": 3,
     "metadata": {},
     "output_type": "execute_result"
    }
   ],
   "source": [
    "pwd"
   ]
  },
  {
   "cell_type": "code",
   "execution_count": 4,
   "id": "cffde82f",
   "metadata": {},
   "outputs": [
    {
     "name": "stdout",
     "output_type": "stream",
     "text": [
      "/home/chang\n"
     ]
    }
   ],
   "source": [
    "cd .."
   ]
  },
  {
   "cell_type": "code",
   "execution_count": 5,
   "id": "df94b66a",
   "metadata": {},
   "outputs": [
    {
     "name": "stdout",
     "output_type": "stream",
     "text": [
      "/home/chang/domain_intent/SlotGated-SLU/data/snips/train\n"
     ]
    }
   ],
   "source": [
    "cd domain_intent/SlotGated-SLU/data/snips/train"
   ]
  },
  {
   "cell_type": "code",
   "execution_count": 7,
   "id": "89b05314-36a5-4db6-9d82-395b6872d02c",
   "metadata": {},
   "outputs": [
    {
     "name": "stdout",
     "output_type": "stream",
     "text": [
      "\u001b[0m\u001b[01;34m.\u001b[0m/  \u001b[01;34m..\u001b[0m/  \u001b[01;34m.ipynb_checkpoints\u001b[0m/  label  seq.in  seq.out\n"
     ]
    }
   ],
   "source": [
    "ls -a"
   ]
  },
  {
   "cell_type": "markdown",
   "id": "642293bd-d052-4e49-8ec3-7c4e80df1ccc",
   "metadata": {},
   "source": [
    "---data_generation 코드---"
   ]
  },
  {
   "cell_type": "code",
   "execution_count": 8,
   "id": "ebffeec5",
   "metadata": {
    "tags": []
   },
   "outputs": [],
   "source": [
    "#only extract sentence from snips dataset\n",
    "f = open('seq.in', 'r')\n",
    "x_train = []\n",
    "while True:\n",
    "    line = f.readline()\n",
    "    x_str = line[0:-1]\n",
    "    x_train.append(x_str)\n",
    "    if not line:\n",
    "        break\n",
    "\n",
    "f.close()"
   ]
  },
  {
   "cell_type": "code",
   "execution_count": 9,
   "id": "dadfd264",
   "metadata": {
    "tags": []
   },
   "outputs": [
    {
     "name": "stdout",
     "output_type": "stream",
     "text": [
      "listen to westbam alumb allergic on google music\n"
     ]
    }
   ],
   "source": [
    "del x_train[-1]\n",
    "print(x_train[0])"
   ]
  },
  {
   "cell_type": "code",
   "execution_count": 10,
   "id": "b1dbd6d1",
   "metadata": {},
   "outputs": [
    {
     "name": "stdout",
     "output_type": "stream",
     "text": [
      "13084\n"
     ]
    }
   ],
   "source": [
    "print(len(x_train))"
   ]
  },
  {
   "cell_type": "code",
   "execution_count": 11,
   "id": "af71abf5",
   "metadata": {
    "tags": []
   },
   "outputs": [
    {
     "name": "stdout",
     "output_type": "stream",
     "text": [
      "13084\n",
      "PlayMusic\n"
     ]
    }
   ],
   "source": [
    "#only extract label from snips dataset\n",
    "f = open('label','r')\n",
    "y_train = []\n",
    "while True:\n",
    "  line = f.readline()\n",
    "  y_str = line[0:-1]\n",
    "  y_train.append(y_str)\n",
    "  if not line: break\n",
    "\n",
    "f.close()\n",
    "\n",
    "del y_train[-1]\n",
    "\n",
    "print(len(y_train))\n",
    "print(y_train[0])"
   ]
  },
  {
   "cell_type": "code",
   "execution_count": 12,
   "id": "6a165b50",
   "metadata": {
    "tags": []
   },
   "outputs": [
    {
     "name": "stdout",
     "output_type": "stream",
     "text": [
      "3732\n",
      "3732\n",
      "listen to westbam alumb allergic on google music\n",
      "PlayMusicOrVideo\n"
     ]
    }
   ],
   "source": [
    "#only extract sentence labeled 'PlayMusic' or 'AddToPlaylist'\n",
    "refined_x_train = []\n",
    "refined_y_train = []\n",
    "for i in range(len(y_train)):\n",
    "    if y_train[i] == 'PlayMusic' or y_train[i] == 'AddToPlaylist':\n",
    "        refined_x_train.append(x_train[i])\n",
    "        refined_y_train.append('PlayMusicOrVideo')\n",
    "\n",
    "print(len(refined_x_train))\n",
    "print(len(refined_y_train))\n",
    "print(refined_x_train[0])\n",
    "print(refined_y_train[0])"
   ]
  },
  {
   "cell_type": "code",
   "execution_count": 13,
   "id": "01c42e65",
   "metadata": {
    "tags": []
   },
   "outputs": [
    {
     "name": "stdout",
     "output_type": "stream",
     "text": [
      "7465\n",
      "7465\n",
      "listen to westbam alumb allergic on google music\n",
      "PlayMusicOrVideo\n"
     ]
    }
   ],
   "source": [
    "#only extract sentence not labeled 'PlayMusic' or 'AddToPlaylist'\n",
    "#match the ratio with sentence labeled 'PlayMusic' or 'AddToPlaylist'\n",
    "cnt = 0\n",
    "\n",
    "for i in range(len(y_train)):\n",
    "    if y_train[i] != 'PlayMusic' and y_train[i] != 'AddToPlaylist':\n",
    "        if cnt < 3733:\n",
    "            refined_x_train.append(x_train[i])\n",
    "            refined_y_train.append('NotPlayMusicOrVideo')\n",
    "            cnt += 1\n",
    "\n",
    "print(len(refined_x_train))\n",
    "print(len(refined_y_train))\n",
    "print(refined_x_train[0])\n",
    "print(refined_y_train[0])"
   ]
  },
  {
   "cell_type": "code",
   "execution_count": 14,
   "id": "41a2e116",
   "metadata": {},
   "outputs": [
    {
     "name": "stderr",
     "output_type": "stream",
     "text": [
      "2022-07-22 10:15:27.831255: I tensorflow/stream_executor/platform/default/dso_loader.cc:49] Successfully opened dynamic library libcudart.so.11.0\n",
      "[nltk_data] Downloading package averaged_perceptron_tagger to\n",
      "[nltk_data]     /home/chang/nltk_data...\n",
      "[nltk_data]   Package averaged_perceptron_tagger is already up-to-\n",
      "[nltk_data]       date!\n"
     ]
    },
    {
     "data": {
      "text/plain": [
       "True"
      ]
     },
     "execution_count": 14,
     "metadata": {},
     "output_type": "execute_result"
    }
   ],
   "source": [
    "import nlpaug\n",
    "import nlpaug.augmenter.word as naw\n",
    "import nlpaug.flow as naf\n",
    "import nltk\n",
    "nltk.download('averaged_perceptron_tagger')"
   ]
  },
  {
   "cell_type": "code",
   "execution_count": 17,
   "id": "d831853c",
   "metadata": {},
   "outputs": [
    {
     "name": "stdout",
     "output_type": "stream",
     "text": [
      "Original:\n",
      "add slimm cutta calhoun to my this is prince playlist  \n",
      "Augmented Text:\n",
      "add slimm deluxe cutta calhoun tape to my ipod this one is prince playlist\n",
      "add slimm to cutta calhoun soundtrack to my this movie is prince claus playlist\n",
      "add slimm cutta calhoun intro to dub my this morning is prince playlist\n",
      "add up slimm cutta calhoun to see my this mixtape is my prince playlist\n",
      "gonna add another slimm cutta calhoun to my music this is prince playlist\n"
     ]
    }
   ],
   "source": [
    "#generate test data using nlpaug\n",
    "TOPK=20 #default=100\n",
    "ACT = 'insert' #\"substitute\"\n",
    "test_sentence = refined_x_train[4]\n",
    "\n",
    "\n",
    "aug_bert = naw.ContextualWordEmbsAug(\n",
    "    model_path='distilbert-base-uncased', \n",
    "    #device='cuda',\n",
    "    action=ACT, top_k=TOPK)\n",
    "print(\"Original:\")\n",
    "print(test_sentence)\n",
    "print(\"Augmented Text:\")\n",
    "for i in range(5):\n",
    "    augmented_text = aug_bert.augment(test_sentence)\n",
    "    print(augmented_text)"
   ]
  },
  {
   "cell_type": "code",
   "execution_count": 18,
   "id": "82ad9384",
   "metadata": {},
   "outputs": [
    {
     "name": "stdout",
     "output_type": "stream",
     "text": [
      "Original:\n",
      "add slimm cutta calhoun to my this is prince playlist  \n"
     ]
    }
   ],
   "source": [
    "# model_type: word2vec, glove or fasttext\n",
    "aug_w2v = naw.WordEmbsAug(\n",
    "    model_type='glove', model_path='/home/chang/domain_intent/glove.6B.300d.txt',\n",
    "    action=\"substitute\")\n",
    "print(\"Original:\")\n",
    "print(test_sentence)"
   ]
  },
  {
   "cell_type": "code",
   "execution_count": 19,
   "id": "0fe5f231",
   "metadata": {},
   "outputs": [
    {
     "name": "stdout",
     "output_type": "stream",
     "text": [
      "orginal sentence:\n",
      "listen to westbam alumb allergic on google music\n"
     ]
    },
    {
     "data": {
      "text/plain": [
       "['persuade myself to google westbam alumb allergic tracks putting advertisers music',\n",
       " \"“ explain to fugitive westbam alumb toxicity on 's google music\",\n",
       " 'attentively to mixtape westbam would alumb dermatitis files on google music',\n",
       " 'listen to the westbam made alumb allergic available their websites got music',\n",
       " 'asked to eric westbam present alumb autoimmune on google mobile singing',\n",
       " \"n't behind seeking fatah westbam alumb allergic on google cd music\",\n",
       " 'everybody move to westbam saudi alumb allergic on your google basic pianist',\n",
       " 'listen directly follow westbam as alumb allergic live along revver google music',\n",
       " 'downloaded listen direct to westbam aka alumb allergic available on ibm performers',\n",
       " 'though listen go westbam with alumb allergic available on computer play label']"
      ]
     },
     "execution_count": 19,
     "metadata": {},
     "output_type": "execute_result"
    }
   ],
   "source": [
    "#test case\n",
    "text = refined_x_train[0]\n",
    "print('orginal sentence:')\n",
    "print(text)\n",
    "\n",
    "aug = naf.Sequential([\n",
    "    aug_bert,aug_w2v\n",
    "])\n",
    "\n",
    "aug.augment(text, n=10)"
   ]
  },
  {
   "cell_type": "code",
   "execution_count": 20,
   "id": "3ca82e10",
   "metadata": {},
   "outputs": [],
   "source": [
    "import pandas as pd\n",
    "csv_data = pd.read_csv('/home/chang/domain_bible_dataset/dataset.csv')"
   ]
  },
  {
   "cell_type": "code",
   "execution_count": 21,
   "id": "58bcb5f9",
   "metadata": {},
   "outputs": [
    {
     "name": "stdout",
     "output_type": "stream",
     "text": [
      "                                                   verse      label\n",
      "0       listen to westbam alumb allergic on google music  not bible\n",
      "1            add step to me to the 50 clásicos playlist   not bible\n",
      "2      i give this current textbook a rating value of...  not bible\n",
      "3                   play the song little robin redbreast  not bible\n",
      "4      please add iris dement to my playlist this is ...  not bible\n",
      "...                                                  ...        ...\n",
      "26103  And because there was little food to be had in...      bible\n",
      "26104  Now when he came near to Egypt, he said to Sar...      bible\n",
      "26105  And I am certain that when the men of Egypt se...      bible\n",
      "26106  And he said, I have had news that there is gra...      bible\n",
      "26107  And the Lord came to him in a vision and said,...      bible\n",
      "\n",
      "[26108 rows x 2 columns]\n"
     ]
    }
   ],
   "source": [
    "print(csv_data)"
   ]
  },
  {
   "cell_type": "code",
   "execution_count": 22,
   "id": "3152eba2",
   "metadata": {},
   "outputs": [
    {
     "name": "stdout",
     "output_type": "stream",
     "text": [
      "                                                   verse  label\n",
      "13084  Then all the people of Judah took Uzziah, who ...  bible\n",
      "13085  Uzziah was sixteen years old when he became ki...  bible\n",
      "13086  The Ammonites gave offerings to Uzziah: and ne...  bible\n",
      "13087  Uzziah made towers in Jerusalem, at the doorwa...  bible\n",
      "13088  In addition, Uzziah had an army of fighting-me...  bible\n",
      "...                                                  ...    ...\n",
      "26103  And because there was little food to be had in...  bible\n",
      "26104  Now when he came near to Egypt, he said to Sar...  bible\n",
      "26105  And I am certain that when the men of Egypt se...  bible\n",
      "26106  And he said, I have had news that there is gra...  bible\n",
      "26107  And the Lord came to him in a vision and said,...  bible\n",
      "\n",
      "[13024 rows x 2 columns]\n"
     ]
    }
   ],
   "source": [
    "domain_df = csv_data[csv_data['label'] == 'bible']\n",
    "print(domain_df)"
   ]
  },
  {
   "cell_type": "code",
   "execution_count": null,
   "id": "c7964c95",
   "metadata": {
    "tags": []
   },
   "outputs": [],
   "source": [
    "import warnings\n",
    "warnings.filterwarnings(action='ignore')\n",
    "\n",
    "#generate sentence\n",
    "TOPK=20 #default=100\n",
    "ACT = 'insert' #\"substitute\"\n",
    "test_sentence = refined_x_train[4]\n",
    "\n",
    "\n",
    "aug_bert = naw.ContextualWordEmbsAug(\n",
    "    model_path='distilbert-base-uncased', \n",
    "    #device='cuda',\n",
    "    action=ACT, top_k=TOPK)\n",
    "\n",
    "aug_w2v = naw.WordEmbsAug(\n",
    "    model_type='glove', model_path='/home/chang/domain_intent/glove.6B.300d.txt',\n",
    "    action=\"substitute\")\n",
    "\n",
    "aug = naf.Sequential([\n",
    "    aug_bert,aug_w2v\n",
    "])\n",
    "\n",
    "for i in range(len(refined_x_train)):\n",
    "    origin_sentence = refined_x_train[i]\n",
    "    origin_data = {}\n",
    "    origin_data['verse'] = origin_sentence\n",
    "    origin_data['label'] = refined_y_train[i]\n",
    "    domain_df = domain_df.append(origin_data, ignore_index=True)\n",
    "    \n",
    "    for j in range(3):\n",
    "        augmented_text = aug.augment(origin_sentence, n=1)\n",
    "        new_data = {}\n",
    "        new_data['verse'] = augmented_text\n",
    "        new_data['label'] = refined_y_train[i]\n",
    "        domain_df = domain_df.append(new_data, ignore_index=True)\n",
    "        \n",
    "\n",
    "# print(domain_df)"
   ]
  },
  {
   "cell_type": "code",
   "execution_count": 56,
   "id": "d27e07b0",
   "metadata": {},
   "outputs": [
    {
     "name": "stdout",
     "output_type": "stream",
     "text": [
      "                                                   verse                label\n",
      "0      Then all the people of Judah took Uzziah, who ...                bible\n",
      "1      Uzziah was sixteen years old when he became ki...                bible\n",
      "2      The Ammonites gave offerings to Uzziah: and ne...                bible\n",
      "3      Uzziah made towers in Jerusalem, at the doorwa...                bible\n",
      "4      In addition, Uzziah had an army of fighting-me...                bible\n",
      "...                                                  ...                  ...\n",
      "42879  what very will the afghan good be like this we...  NotPlayMusicOrVideo\n",
      "42880             rate this textbook two out of 6 points  NotPlayMusicOrVideo\n",
      "42881  zero that textbook includes two point this sco...  NotPlayMusicOrVideo\n",
      "42882  reduced wins this textbook followed tries out ...  NotPlayMusicOrVideo\n",
      "42883  rate in this critique two pass out views only ...  NotPlayMusicOrVideo\n",
      "\n",
      "[42884 rows x 2 columns]\n"
     ]
    }
   ],
   "source": [
    "print(domain_df)"
   ]
  },
  {
   "cell_type": "code",
   "execution_count": 57,
   "id": "cdbd14c0",
   "metadata": {},
   "outputs": [],
   "source": [
    "domain_df.to_csv('/home/chang/domain_intent/domain_dataset.csv', mode='w',encoding='utf-8',index=False)"
   ]
  },
  {
   "cell_type": "code",
   "execution_count": 37,
   "id": "e11ec53c",
   "metadata": {},
   "outputs": [],
   "source": [
    "data_numpy = domain_df.to_numpy()"
   ]
  },
  {
   "cell_type": "code",
   "execution_count": 39,
   "id": "f2047aae",
   "metadata": {},
   "outputs": [
    {
     "name": "stdout",
     "output_type": "stream",
     "text": [
      "[['Then all the people of Judah took Uzziah, who was sixteen years old, and made him king in place of his father Amaziah.'\n",
      "  'bible']\n",
      " [\"Uzziah was sixteen years old when he became king, and he was ruling in Jerusalem for fifty-two years his mother's name was Jechiliah of Jerusalem.\"\n",
      "  'bible']\n",
      " ['The Ammonites gave offerings to Uzziah: and news of him went out as far as the limit of Egypt for he became very great in power.'\n",
      "  'bible']\n",
      " ...\n",
      " ['rate this textbook two – out averages of 6 average points'\n",
      "  'NotPlayMusicOrVideo']\n",
      " ['metacritic rate this article textbook two degrees out of 6 points'\n",
      "  'NotPlayMusicOrVideo']\n",
      " ['rate this textbook score two stars out of its 6 points'\n",
      "  'NotPlayMusicOrVideo']]\n"
     ]
    }
   ],
   "source": [
    "print(data_numpy)"
   ]
  },
  {
   "cell_type": "code",
   "execution_count": 40,
   "id": "e8d90174",
   "metadata": {},
   "outputs": [
    {
     "name": "stdout",
     "output_type": "stream",
     "text": [
      "<class 'numpy.ndarray'>\n"
     ]
    }
   ],
   "source": [
    "print(type(data_numpy))"
   ]
  },
  {
   "cell_type": "code",
   "execution_count": null,
   "id": "55bd959b",
   "metadata": {
    "tags": []
   },
   "outputs": [],
   "source": [
    "# print(data_numpy[10][0])"
   ]
  },
  {
   "cell_type": "code",
   "execution_count": 58,
   "id": "dba88730",
   "metadata": {},
   "outputs": [
    {
     "name": "stdout",
     "output_type": "stream",
     "text": [
      "listen to westbam alumb allergic on google music\n"
     ]
    }
   ],
   "source": [
    "print(refined_x_train[0])"
   ]
  },
  {
   "cell_type": "code",
   "execution_count": 77,
   "id": "9accb52e",
   "metadata": {},
   "outputs": [
    {
     "data": {
      "text/plain": [
       "[(9.0, 'play good music'), (1.0, 'sleeping'), (1.0, 'listen')]"
      ]
     },
     "execution_count": 77,
     "metadata": {},
     "output_type": "execute_result"
    }
   ],
   "source": [
    "from rake_nltk import Rake\n",
    "\n",
    "test_sent = 'Play good music to listen to while sleeping'\n",
    "\n",
    "r = Rake(min_length=1, max_length=4)\n",
    "#r = Rake()\n",
    "r.extract_keywords_from_text(test_sent)\n",
    "r.get_ranked_phrases_with_scores()"
   ]
  },
  {
   "cell_type": "code",
   "execution_count": null,
   "id": "2c4deaf7",
   "metadata": {},
   "outputs": [],
   "source": []
  }
 ],
 "metadata": {
  "kernelspec": {
   "display_name": "domain",
   "language": "python",
   "name": "domain"
  },
  "language_info": {
   "codemirror_mode": {
    "name": "ipython",
    "version": 3
   },
   "file_extension": ".py",
   "mimetype": "text/x-python",
   "name": "python",
   "nbconvert_exporter": "python",
   "pygments_lexer": "ipython3",
   "version": "3.8.12"
  }
 },
 "nbformat": 4,
 "nbformat_minor": 5
}
